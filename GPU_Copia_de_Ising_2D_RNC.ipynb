{
  "nbformat": 4,
  "nbformat_minor": 0,
  "metadata": {
    "colab": {
      "provenance": [],
      "gpuType": "T4",
      "mount_file_id": "1l-eP7VbgKaqc9AzVvK18xfQT6hL06Wve",
      "authorship_tag": "ABX9TyMUkBksR097cCFlmjnK3eZd",
      "include_colab_link": true
    },
    "kernelspec": {
      "name": "python3",
      "display_name": "Python 3"
    },
    "language_info": {
      "name": "python"
    },
    "accelerator": "GPU"
  },
  "cells": [
    {
      "cell_type": "markdown",
      "metadata": {
        "id": "view-in-github",
        "colab_type": "text"
      },
      "source": [
        "<a href=\"https://colab.research.google.com/github/Tepuy-A/Tesis-2/blob/main/GPU_Copia_de_Ising_2D_RNC.ipynb\" target=\"_parent\"><img src=\"https://colab.research.google.com/assets/colab-badge.svg\" alt=\"Open In Colab\"/></a>"
      ]
    },
    {
      "cell_type": "markdown",
      "source": [
        "# Datos"
      ],
      "metadata": {
        "id": "OAky-qYIvQ8s"
      }
    },
    {
      "cell_type": "code",
      "source": [
        "import requests\n",
        "import pickle\n",
        "import numpy as np\n",
        "\n",
        "url_data = \"https://physics.bu.edu/~pankajm/ML-Review-Datasets/isingMC/Ising2DFM_reSample_L40_T=All.pkl\"\n",
        "\n",
        "# Realiza la solicitud GET al servidor para obtener el contenido del archivo\n",
        "response_data = requests.get(url_data)\n",
        "data = pickle.loads(response_data.content, encoding='bytes')\n",
        "data = np.unpackbits(data).reshape(-1, 1600)\n",
        "data = data.astype('int')\n",
        "data[np.where(data == 0)] = -1\n",
        "\n",
        "url_labels = \"https://physics.bu.edu/~pankajm/ML-Review-Datasets/isingMC/Ising2DFM_reSample_L40_T=All_labels.pkl\"\n",
        "\n",
        "# Realiza la solicitud GET al servidor para obtener el contenido del archivo\n",
        "response_labels = requests.get(url_labels)\n",
        "labels = pickle.loads(response_labels.content, encoding='bytes')"
      ],
      "metadata": {
        "id": "KEv2ksY2JYKv"
      },
      "execution_count": 1,
      "outputs": []
    },
    {
      "cell_type": "code",
      "source": [
        "# divide data into ordered, critical, and disordered\n",
        "X_ordered = data[:70000, :]   #Shape (70000, 1600)\n",
        "Y_ordered = labels[:70000]\n",
        "\n",
        "X_critical = data[70000:100000, :]  #Shape (30000, 1600)\n",
        "Y_critical = labels[70000:100000]\n",
        "\n",
        "X_disordered = data[100000:, :]     #Shape (60000,1600)\n",
        "Y_disordered = labels[100000:]"
      ],
      "metadata": {
        "id": "4ZDfL_B8duHl"
      },
      "execution_count": 2,
      "outputs": []
    },
    {
      "cell_type": "code",
      "source": [
        "from sklearn.model_selection import train_test_split\n",
        "\n",
        "# define training, critical, and test data sets\n",
        "X = np.concatenate((X_ordered, X_disordered))    #Shape (130000, 1600)\n",
        "Y = np.concatenate((Y_ordered, Y_disordered))\n",
        "\n",
        "# pick random data points from ordered and disordered states to create the training and test sets\n",
        "X_train_all, X_test, Y_train_all, Y_test = train_test_split(X, Y, test_size=0.2, train_size=0.8)"
      ],
      "metadata": {
        "id": "L95iYFfPknOK"
      },
      "execution_count": 3,
      "outputs": []
    },
    {
      "cell_type": "code",
      "source": [
        "X_train_all = X_train_all.reshape(-1, 40, 40)  #Shape (104000, 40, 40)\n",
        "X_test = X_test.reshape(-1,40,40)              #Shape (26000, 40, 40)"
      ],
      "metadata": {
        "id": "LJpHgWuz2lQC"
      },
      "execution_count": 4,
      "outputs": []
    },
    {
      "cell_type": "code",
      "source": [
        "X_train_all = np.expand_dims(X_train_all, axis=-1).astype(np.float32)      #Shape (104000, 40, 40, 1)    (#instances, height, width, color channel)\n",
        "X_test = np.expand_dims(X_test.astype(np.float32), axis=-1)                #Shape (26000, 40, 40, 1)"
      ],
      "metadata": {
        "id": "MvVWKpSSjbpv"
      },
      "execution_count": 5,
      "outputs": []
    },
    {
      "cell_type": "markdown",
      "source": [
        "# Modelo"
      ],
      "metadata": {
        "id": "xha-b-gJvOfR"
      }
    },
    {
      "cell_type": "code",
      "source": [
        "import tensorflow as tf\n",
        "from functools import partial"
      ],
      "metadata": {
        "id": "q2rmRuxxvPwP"
      },
      "execution_count": 6,
      "outputs": []
    },
    {
      "cell_type": "code",
      "source": [
        "tf.random.set_seed(42)  # extra code – ensures reproducibility\n",
        "DefaultConv2D = partial(tf.keras.layers.Conv2D, kernel_size=2, padding=\"same\",\n",
        "                        activation=\"relu\", kernel_initializer=\"he_normal\")\n",
        "model = tf.keras.Sequential([\n",
        "    DefaultConv2D(filters=5, kernel_size=2, input_shape=[40, 40, 1]),\n",
        "    tf.keras.layers.MaxPool2D(pool_size=2),\n",
        "\n",
        "    tf.keras.layers.Flatten(),\n",
        "    tf.keras.layers.Dense(units=20*20*5, activation=\"relu\",\n",
        "                          kernel_initializer=\"he_normal\"),\n",
        "    tf.keras.layers.Dense(units=2, activation=\"softmax\")\n",
        "])"
      ],
      "metadata": {
        "id": "HApBR5QAvfZZ"
      },
      "execution_count": 7,
      "outputs": []
    },
    {
      "cell_type": "code",
      "source": [
        "# extra code – compiles, fits, evaluates, and uses the model to make predictions\n",
        "model.compile(loss=\"sparse_categorical_crossentropy\", optimizer=\"nadam\",\n",
        "              metrics=[\"accuracy\"])\n",
        "history = model.fit(X_train_all, Y_train_all, epochs=10,\n",
        "                     validation_split=0.2)\n",
        "\n",
        "\n",
        "score = model.evaluate(X_test, Y_test)"
      ],
      "metadata": {
        "colab": {
          "base_uri": "https://localhost:8080/"
        },
        "id": "a0Mwkx3V6pAS",
        "outputId": "6742f063-8995-4443-c674-b4e71d8dac77"
      },
      "execution_count": 8,
      "outputs": [
        {
          "output_type": "stream",
          "name": "stdout",
          "text": [
            "Epoch 1/10\n",
            "2600/2600 [==============================] - 18s 5ms/step - loss: 0.0098 - accuracy: 0.9990 - val_loss: 5.3778e-07 - val_accuracy: 1.0000\n",
            "Epoch 2/10\n",
            "2600/2600 [==============================] - 13s 5ms/step - loss: 2.9130e-08 - accuracy: 1.0000 - val_loss: 2.0347e-07 - val_accuracy: 1.0000\n",
            "Epoch 3/10\n",
            "2600/2600 [==============================] - 13s 5ms/step - loss: 1.4732e-08 - accuracy: 1.0000 - val_loss: 9.1127e-08 - val_accuracy: 1.0000\n",
            "Epoch 4/10\n",
            "2600/2600 [==============================] - 13s 5ms/step - loss: 4.8956e-09 - accuracy: 1.0000 - val_loss: 1.5897e-08 - val_accuracy: 1.0000\n",
            "Epoch 5/10\n",
            "2600/2600 [==============================] - 13s 5ms/step - loss: 1.4127e-09 - accuracy: 1.0000 - val_loss: 6.7684e-09 - val_accuracy: 1.0000\n",
            "Epoch 6/10\n",
            "2600/2600 [==============================] - 12s 5ms/step - loss: 5.9175e-10 - accuracy: 1.0000 - val_loss: 3.6335e-09 - val_accuracy: 1.0000\n",
            "Epoch 7/10\n",
            "2600/2600 [==============================] - 12s 5ms/step - loss: 2.1779e-10 - accuracy: 1.0000 - val_loss: 1.0775e-09 - val_accuracy: 1.0000\n",
            "Epoch 8/10\n",
            "2600/2600 [==============================] - 12s 5ms/step - loss: 7.8804e-11 - accuracy: 1.0000 - val_loss: 5.7312e-10 - val_accuracy: 1.0000\n",
            "Epoch 9/10\n",
            "2600/2600 [==============================] - 13s 5ms/step - loss: 4.1551e-11 - accuracy: 1.0000 - val_loss: 1.4557e-09 - val_accuracy: 1.0000\n",
            "Epoch 10/10\n",
            "2600/2600 [==============================] - 13s 5ms/step - loss: 3.2954e-11 - accuracy: 1.0000 - val_loss: 1.1462e-10 - val_accuracy: 1.0000\n",
            "813/813 [==============================] - 2s 2ms/step - loss: 0.0000e+00 - accuracy: 1.0000\n"
          ]
        }
      ]
    },
    {
      "cell_type": "code",
      "source": [
        "import matplotlib.pyplot as plt\n",
        "import pandas as pd\n"
      ],
      "metadata": {
        "id": "xVmvTCYZX22a"
      },
      "execution_count": 9,
      "outputs": []
    },
    {
      "cell_type": "code",
      "source": [
        "pd.DataFrame(history.history).plot(\n",
        " figsize=(8, 5), ylim=[0, 1e-6], grid=True,\n",
        "xlabel=\"Epoch\",\n",
        " style=[\"r--\", \"r--.\", \"b-\", \"b-*\"])\n",
        "plt.show()"
      ],
      "metadata": {
        "colab": {
          "base_uri": "https://localhost:8080/",
          "height": 480
        },
        "id": "8ASczmXJHh4u",
        "outputId": "94c7de82-d2ea-4777-9af0-9850fd82da56"
      },
      "execution_count": 13,
      "outputs": [
        {
          "output_type": "display_data",
          "data": {
            "text/plain": [
              "<Figure size 800x500 with 1 Axes>"
            ],
            "image/png": "[encoded data removed]"
          },
          "metadata": {}
        }
      ]
    },
    {
      "cell_type": "code",
      "source": [
        "results = pd.DataFrame(history.history)"
      ],
      "metadata": {
        "id": "49NEMKyLIzFJ"
      },
      "execution_count": 14,
      "outputs": []
    },
    {
      "cell_type": "code",
      "source": [
        "print(score)"
      ],
      "metadata": {
        "colab": {
          "base_uri": "https://localhost:8080/"
        },
        "id": "uKPoJbs9JN2y",
        "outputId": "6671dc2c-e5fb-46df-9ab0-2c796f60f0eb"
      },
      "execution_count": 15,
      "outputs": [
        {
          "output_type": "stream",
          "name": "stdout",
          "text": [
            "[0.0, 1.0]\n"
          ]
        }
      ]
    },
    {
      "cell_type": "code",
      "source": [
        "model.summary()"
      ],
      "metadata": {
        "colab": {
          "base_uri": "https://localhost:8080/"
        },
        "id": "eBZRgFdULqWf",
        "outputId": "154d5a3f-91e9-462f-dee9-c510d909ec40"
      },
      "execution_count": 16,
      "outputs": [
        {
          "output_type": "stream",
          "name": "stdout",
          "text": [
            "Model: \"sequential\"\n",
            "_________________________________________________________________\n",
            " Layer (type)                Output Shape              Param #   \n",
            "=================================================================\n",
            " conv2d (Conv2D)             (None, 40, 40, 5)         25        \n",
            "                                                                 \n",
            " max_pooling2d (MaxPooling2  (None, 20, 20, 5)         0         \n",
            " D)                                                              \n",
            "                                                                 \n",
            " flatten (Flatten)           (None, 2000)              0         \n",
            "                                                                 \n",
            " dense (Dense)               (None, 2000)              4002000   \n",
            "                                                                 \n",
            " dense_1 (Dense)             (None, 2)                 4002      \n",
            "                                                                 \n",
            "=================================================================\n",
            "Total params: 4006027 (15.28 MB)\n",
            "Trainable params: 4006027 (15.28 MB)\n",
            "Non-trainable params: 0 (0.00 Byte)\n",
            "_________________________________________________________________\n"
          ]
        }
      ]
    },
    {
      "cell_type": "code",
      "source": [
        "# Save the entire model as a SavedModel.\n",
        "!mkdir -p saved_model\n",
        "model.save('saved_model/my_model')"
      ],
      "metadata": {
        "id": "ZxSzekobMpYR"
      },
      "execution_count": 17,
      "outputs": []
    },
    {
      "cell_type": "code",
      "source": [
        "X_critical = X_critical.reshape(-1,40,40)              #Shape (30000, 40, 40)"
      ],
      "metadata": {
        "id": "npjS-yD6O8Zc"
      },
      "execution_count": 18,
      "outputs": []
    },
    {
      "cell_type": "code",
      "source": [
        "X_critical = np.expand_dims(X_critical.astype(np.float32), axis=-1)                #Shape (30000, 40, 40, 1)"
      ],
      "metadata": {
        "id": "5CIGRBemPSez"
      },
      "execution_count": 19,
      "outputs": []
    },
    {
      "cell_type": "code",
      "source": [
        "score_critical = model.evaluate(X_critical, Y_critical)"
      ],
      "metadata": {
        "colab": {
          "base_uri": "https://localhost:8080/"
        },
        "id": "pyYnEkw0PieO",
        "outputId": "1c4b4c7a-275d-4738-fbf7-c7af85456a3f"
      },
      "execution_count": 20,
      "outputs": [
        {
          "output_type": "stream",
          "name": "stdout",
          "text": [
            "938/938 [==============================] - 3s 3ms/step - loss: 0.9641 - accuracy: 0.8987\n"
          ]
        }
      ]
    },
    {
      "cell_type": "markdown",
      "source": [
        "Prueba"
      ],
      "metadata": {
        "id": "_3HvZM3TqfBL"
      }
    }
  ]
}