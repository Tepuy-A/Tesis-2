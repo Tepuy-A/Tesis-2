{
  "nbformat": 4,
  "nbformat_minor": 0,
  "metadata": {
    "colab": {
      "provenance": [],
      "mount_file_id": "1l-eP7VbgKaqc9AzVvK18xfQT6hL06Wve",
      "authorship_tag": "ABX9TyM0xBZjHTIOBy7puzvHpnuo",
      "include_colab_link": true
    },
    "kernelspec": {
      "name": "python3",
      "display_name": "Python 3"
    },
    "language_info": {
      "name": "python"
    }
  },
  "cells": [
    {
      "cell_type": "markdown",
      "metadata": {
        "id": "view-in-github",
        "colab_type": "text"
      },
      "source": [
        "<a href=\"https://colab.research.google.com/github/Tepuy-A/Tesis-2/blob/main/Ising_2D_RNC.ipynb\" target=\"_parent\"><img src=\"https://colab.research.google.com/assets/colab-badge.svg\" alt=\"Open In Colab\"/></a>"
      ]
    },
    {
      "cell_type": "markdown",
      "source": [
        "# Datos"
      ],
      "metadata": {
        "id": "OAky-qYIvQ8s"
      }
    },
    {
      "cell_type": "code",
      "source": [
        "import requests\n",
        "import pickle\n",
        "import numpy as np\n",
        "\n",
        "url_data = \"https://physics.bu.edu/~pankajm/ML-Review-Datasets/isingMC/Ising2DFM_reSample_L40_T=All.pkl\"\n",
        "\n",
        "# Realiza la solicitud GET al servidor para obtener el contenido del archivo\n",
        "response_data = requests.get(url_data)\n",
        "data = pickle.loads(response_data.content, encoding='bytes')\n",
        "data = np.unpackbits(data).reshape(-1, 1600)\n",
        "data = data.astype('int')\n",
        "data[np.where(data == 0)] = -1\n",
        "\n",
        "url_labels = \"https://physics.bu.edu/~pankajm/ML-Review-Datasets/isingMC/Ising2DFM_reSample_L40_T=All_labels.pkl\"\n",
        "\n",
        "# Realiza la solicitud GET al servidor para obtener el contenido del archivo\n",
        "response_labels = requests.get(url_labels)\n",
        "labels = pickle.loads(response_labels.content, encoding='bytes')"
      ],
      "metadata": {
        "id": "KEv2ksY2JYKv"
      },
      "execution_count": null,
      "outputs": []
    },
    {
      "cell_type": "code",
      "source": [
        "# divide data into ordered, critical, and disordered\n",
        "X_ordered = data[:70000, :]   #Shape (70000, 1600)\n",
        "Y_ordered = labels[:70000]\n",
        "\n",
        "X_critical = data[70000:100000, :]  #Shape (30000, 1600)\n",
        "Y_critical = labels[70000:100000]\n",
        "\n",
        "X_disordered = data[100000:, :]     #Shape (60000,1600)\n",
        "Y_disordered = labels[100000:]"
      ],
      "metadata": {
        "id": "4ZDfL_B8duHl"
      },
      "execution_count": null,
      "outputs": []
    },
    {
      "cell_type": "code",
      "source": [
        "from sklearn.model_selection import train_test_split\n",
        "\n",
        "# define training, critical, and test data sets\n",
        "X = np.concatenate((X_ordered, X_disordered))    #Shape (130000, 1600)\n",
        "Y = np.concatenate((Y_ordered, Y_disordered))\n",
        "\n",
        "# pick random data points from ordered and disordered states to create the training and test sets\n",
        "X_train_all, X_test, Y_train_all, Y_test = train_test_split(X, Y, test_size=0.2, train_size=0.8)"
      ],
      "metadata": {
        "id": "L95iYFfPknOK"
      },
      "execution_count": null,
      "outputs": []
    },
    {
      "cell_type": "code",
      "source": [
        "X_train_all = X_train_all.reshape(-1, 40, 40)  #Shape (104000, 40, 40)\n",
        "X_test = X_test.reshape(-1,40,40)              #Shape (26000, 40, 40)"
      ],
      "metadata": {
        "id": "LJpHgWuz2lQC"
      },
      "execution_count": null,
      "outputs": []
    },
    {
      "cell_type": "code",
      "source": [
        "X_train_all = np.expand_dims(X_train_all, axis=-1).astype(np.float32)      #Shape (104000, 40, 40, 1)    (#instances, height, width, color channel)\n",
        "X_test = np.expand_dims(X_test.astype(np.float32), axis=-1)                #Shape (26000, 40, 40, 1)"
      ],
      "metadata": {
        "id": "MvVWKpSSjbpv"
      },
      "execution_count": null,
      "outputs": []
    },
    {
      "cell_type": "markdown",
      "source": [
        "# Modelo"
      ],
      "metadata": {
        "id": "xha-b-gJvOfR"
      }
    },
    {
      "cell_type": "code",
      "source": [
        "import tensorflow as tf\n",
        "from functools import partial"
      ],
      "metadata": {
        "id": "q2rmRuxxvPwP"
      },
      "execution_count": null,
      "outputs": []
    },
    {
      "cell_type": "code",
      "source": [
        "tf.random.set_seed(42)  # extra code – ensures reproducibility\n",
        "DefaultConv2D = partial(tf.keras.layers.Conv2D, kernel_size=2, padding=\"same\",\n",
        "                        activation=\"relu\", kernel_initializer=\"he_normal\")\n",
        "model = tf.keras.Sequential([\n",
        "    DefaultConv2D(filters=5, kernel_size=2, input_shape=[40, 40, 1]),\n",
        "    tf.keras.layers.MaxPool2D(pool_size=2),\n",
        "\n",
        "    tf.keras.layers.Flatten(),\n",
        "    tf.keras.layers.Dense(units=20*20*5, activation=\"relu\",\n",
        "                          kernel_initializer=\"he_normal\"),\n",
        "    tf.keras.layers.Dense(units=2, activation=\"softmax\")\n",
        "])"
      ],
      "metadata": {
        "id": "HApBR5QAvfZZ"
      },
      "execution_count": null,
      "outputs": []
    },
    {
      "cell_type": "code",
      "source": [
        "# extra code – compiles, fits, evaluates, and uses the model to make predictions\n",
        "model.compile(loss=\"sparse_categorical_crossentropy\", optimizer=\"nadam\",\n",
        "              metrics=[\"accuracy\"])\n",
        "history = model.fit(X_train_all, Y_train_all, epochs=10,\n",
        "                     validation_split=0.2)\n",
        "\n",
        "\n",
        "score = model.evaluate(X_test, Y_test)"
      ],
      "metadata": {
        "colab": {
          "base_uri": "https://localhost:8080/"
        },
        "id": "a0Mwkx3V6pAS",
        "outputId": "a321138f-169d-40ac-ce65-2d15b11417b7"
      },
      "execution_count": null,
      "outputs": [
        {
          "output_type": "stream",
          "name": "stdout",
          "text": [
            "Epoch 1/10\n",
            "2600/2600 [==============================] - 527s 202ms/step - loss: 0.0019 - accuracy: 0.9996 - val_loss: 5.7312e-12 - val_accuracy: 1.0000\n",
            "Epoch 2/10\n",
            "2600/2600 [==============================] - 525s 202ms/step - loss: 1.6620e-10 - accuracy: 1.0000 - val_loss: 5.7312e-12 - val_accuracy: 1.0000\n",
            "Epoch 3/10\n",
            "2600/2600 [==============================] - 514s 198ms/step - loss: 1.4758e-10 - accuracy: 1.0000 - val_loss: 5.7312e-12 - val_accuracy: 1.0000\n",
            "Epoch 4/10\n",
            "2600/2600 [==============================] - 537s 206ms/step - loss: 1.1319e-10 - accuracy: 1.0000 - val_loss: 0.0000e+00 - val_accuracy: 1.0000\n",
            "Epoch 5/10\n",
            "2600/2600 [==============================] - 527s 203ms/step - loss: 6.1610e-11 - accuracy: 1.0000 - val_loss: 0.0000e+00 - val_accuracy: 1.0000\n",
            "Epoch 6/10\n",
            "2600/2600 [==============================] - 537s 206ms/step - loss: 2.7223e-11 - accuracy: 1.0000 - val_loss: 0.0000e+00 - val_accuracy: 1.0000\n",
            "Epoch 7/10\n",
            "2600/2600 [==============================] - 519s 200ms/step - loss: 7.1640e-12 - accuracy: 1.0000 - val_loss: 0.0000e+00 - val_accuracy: 1.0000\n",
            "Epoch 8/10\n",
            "2600/2600 [==============================] - 540s 208ms/step - loss: 2.8656e-12 - accuracy: 1.0000 - val_loss: 0.0000e+00 - val_accuracy: 1.0000\n",
            "Epoch 9/10\n",
            "2600/2600 [==============================] - 531s 204ms/step - loss: 1.4328e-12 - accuracy: 1.0000 - val_loss: 0.0000e+00 - val_accuracy: 1.0000\n",
            "Epoch 10/10\n",
            "2600/2600 [==============================] - 530s 204ms/step - loss: 1.4328e-12 - accuracy: 1.0000 - val_loss: 0.0000e+00 - val_accuracy: 1.0000\n",
            "813/813 [==============================] - 30s 36ms/step - loss: 0.0000e+00 - accuracy: 1.0000\n"
          ]
        }
      ]
    },
    {
      "cell_type": "code",
      "source": [
        "import matplotlib.pyplot as plt\n",
        "import pandas as pd\n"
      ],
      "metadata": {
        "id": "xVmvTCYZX22a"
      },
      "execution_count": null,
      "outputs": []
    },
    {
      "cell_type": "code",
      "source": [
        "pd.DataFrame(history.history).plot(\n",
        " figsize=(8, 5), ylim=[0, 1e-9], grid=True,\n",
        "xlabel=\"Epoch\",\n",
        " style=[\"r--\", \"r--.\", \"b-\", \"b-*\"])\n",
        "plt.show()"
      ],
      "metadata": {
        "colab": {
          "base_uri": "https://localhost:8080/",
          "height": 480
        },
        "id": "8ASczmXJHh4u",
        "outputId": "a3bd8bc7-cde2-4be8-dad7-556987224371"
      },
      "execution_count": null,
      "outputs": [
        {
          "output_type": "display_data",
          "data": {
            "text/plain": [
              "<Figure size 800x500 with 1 Axes>"
            ],
            "image/png": "[encoded data removed]"
          },
          "metadata": {}
        }
      ]
    },
    {
      "cell_type": "code",
      "source": [
        "results = pd.DataFrame(history.history)"
      ],
      "metadata": {
        "id": "49NEMKyLIzFJ"
      },
      "execution_count": null,
      "outputs": []
    },
    {
      "cell_type": "code",
      "source": [
        "print(score)"
      ],
      "metadata": {
        "colab": {
          "base_uri": "https://localhost:8080/"
        },
        "id": "uKPoJbs9JN2y",
        "outputId": "4363af77-f2a3-48ec-d5cb-9331685864aa"
      },
      "execution_count": null,
      "outputs": [
        {
          "output_type": "stream",
          "name": "stdout",
          "text": [
            "[0.0, 1.0]\n"
          ]
        }
      ]
    },
    {
      "cell_type": "code",
      "source": [
        "model.summary()"
      ],
      "metadata": {
        "colab": {
          "base_uri": "https://localhost:8080/"
        },
        "id": "eBZRgFdULqWf",
        "outputId": "e0b94108-b005-4e55-fcc2-5582e6e2a4a1"
      },
      "execution_count": null,
      "outputs": [
        {
          "output_type": "stream",
          "name": "stdout",
          "text": [
            "Model: \"sequential\"\n",
            "_________________________________________________________________\n",
            " Layer (type)                Output Shape              Param #   \n",
            "=================================================================\n",
            " conv2d (Conv2D)             (None, 40, 40, 5)         25        \n",
            "                                                                 \n",
            " max_pooling2d (MaxPooling2  (None, 20, 20, 5)         0         \n",
            " D)                                                              \n",
            "                                                                 \n",
            " flatten (Flatten)           (None, 2000)              0         \n",
            "                                                                 \n",
            " dense (Dense)               (None, 2000)              4002000   \n",
            "                                                                 \n",
            " dense_1 (Dense)             (None, 2)                 4002      \n",
            "                                                                 \n",
            "=================================================================\n",
            "Total params: 4006027 (15.28 MB)\n",
            "Trainable params: 4006027 (15.28 MB)\n",
            "Non-trainable params: 0 (0.00 Byte)\n",
            "_________________________________________________________________\n"
          ]
        }
      ]
    },
    {
      "cell_type": "code",
      "source": [
        "# Save the entire model as a SavedModel.\n",
        "!mkdir -p saved_model\n",
        "model.save('saved_model/my_model')"
      ],
      "metadata": {
        "id": "ZxSzekobMpYR"
      },
      "execution_count": null,
      "outputs": []
    },
    {
      "cell_type": "code",
      "source": [
        "X_critical = X_critical.reshape(-1,40,40)              #Shape (30000, 40, 40)"
      ],
      "metadata": {
        "id": "npjS-yD6O8Zc"
      },
      "execution_count": null,
      "outputs": []
    },
    {
      "cell_type": "code",
      "source": [
        "X_critical = np.expand_dims(X_critical.astype(np.float32), axis=-1)                #Shape (30000, 40, 40, 1)"
      ],
      "metadata": {
        "id": "5CIGRBemPSez"
      },
      "execution_count": null,
      "outputs": []
    },
    {
      "cell_type": "code",
      "source": [
        "score_critical = model.evaluate(X_critical, Y_critical)"
      ],
      "metadata": {
        "colab": {
          "base_uri": "https://localhost:8080/"
        },
        "id": "pyYnEkw0PieO",
        "outputId": "099f29ef-cc5e-4c3f-9017-0e3591038a92"
      },
      "execution_count": null,
      "outputs": [
        {
          "output_type": "stream",
          "name": "stdout",
          "text": [
            "938/938 [==============================] - 43s 46ms/step - loss: 13.3245 - accuracy: 0.7272\n"
          ]
        }
      ]
    },
    {
      "cell_type": "markdown",
      "source": [
        "Prueba"
      ],
      "metadata": {
        "id": "_3HvZM3TqfBL"
      }
    }
  ]
}